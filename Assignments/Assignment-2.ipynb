{
 "cells": [
  {
   "cell_type": "code",
   "execution_count": 1,
   "id": "cb5280d7",
   "metadata": {},
   "outputs": [],
   "source": [
    "import numpy as np\n",
    "import matplotlib.pyplot as plt\n",
    "from scipy import stats\n",
    "import seaborn as sns"
   ]
  },
  {
   "cell_type": "markdown",
   "id": "a37c797d",
   "metadata": {},
   "source": [
    "#### 1. Suppose scores on exams in statistics are normally distributed with an unknown population mean and a population standard deviation of 3 points. A random sample of 36 scores is taken and gives a sample mean (sample  mean score) of 68. Find a confidence interval estimate for the population mean exam score (the mean score on all exams)."
   ]
  },
  {
   "cell_type": "code",
   "execution_count": 33,
   "id": "e618b779",
   "metadata": {},
   "outputs": [
    {
     "data": {
      "text/plain": [
       "0.5"
      ]
     },
     "execution_count": 33,
     "metadata": {},
     "output_type": "execute_result"
    }
   ],
   "source": [
    "sms = 68\n",
    "n = 36\n",
    "std_dev = 3\n",
    "sem = std_dev / np.sqrt(n)   \n",
    "sem    #standard error of the mean"
   ]
  },
  {
   "cell_type": "code",
   "execution_count": 34,
   "id": "786413ba",
   "metadata": {},
   "outputs": [
    {
     "data": {
      "text/plain": [
       "(67.17757318652427, 68.82242681347573)"
      ]
     },
     "execution_count": 34,
     "metadata": {},
     "output_type": "execute_result"
    }
   ],
   "source": [
    "stats.norm.interval(0.90, loc= sms, scale = sem) # z dagilimi , populasyonun std sapmasi biliniyor örneklemin ortalamasi biliniyor\n",
    "#loc örneklem ortalamasi, scale  = sem"
   ]
  },
  {
   "cell_type": "raw",
   "id": "160921e0",
   "metadata": {},
   "source": [
    "To construct a confidence interval for a single unknown population mean μ,  where the population standard deviation is known, we need x¯ as an estimate for μ and we need the margin of error. Here, the margin of error (EBM) is called the error bound for a population mean (abbreviated EBM).  The sample mean x¯ is the point estimate of the unknown population mean μ. Find a 90% confidence interval for the true (population) mean of statistics exam scores."
   ]
  },
  {
   "cell_type": "markdown",
   "id": "50885074",
   "metadata": {},
   "source": [
    "#### Alternative Solution"
   ]
  },
  {
   "cell_type": "code",
   "execution_count": 36,
   "id": "4e3cce93",
   "metadata": {},
   "outputs": [
    {
     "data": {
      "text/plain": [
       "0.8225"
      ]
     },
     "execution_count": 36,
     "metadata": {},
     "output_type": "execute_result"
    }
   ],
   "source": [
    "# xort- moe, xort + moe\n",
    "xort = 68\n",
    "moe = 1.645 * sem # 1.645 comes from confidence level-z table for 90 %\n",
    "moe"
   ]
  },
  {
   "cell_type": "code",
   "execution_count": 37,
   "id": "2ac32eca",
   "metadata": {},
   "outputs": [
    {
     "data": {
      "text/plain": [
       "(67.1775, 68.8225)"
      ]
     },
     "execution_count": 37,
     "metadata": {},
     "output_type": "execute_result"
    }
   ],
   "source": [
    "xort-moe, xort+moe # Z Score because we know the std deviation of population"
   ]
  },
  {
   "cell_type": "markdown",
   "id": "2761aab4",
   "metadata": {},
   "source": [
    "#### 2. What is the normal body temperature for healthy humans? A random sample of 130 healthy human body temperatures provided by Allen Shoemaker7 yielded 98.25 degrees and standard deviation 0.73 degrees. Give a 99% confidence interval for the average body temperature of healthy people."
   ]
  },
  {
   "cell_type": "code",
   "execution_count": 21,
   "id": "8ae93f87",
   "metadata": {},
   "outputs": [
    {
     "data": {
      "text/plain": [
       "0.06402523540941313"
      ]
     },
     "execution_count": 21,
     "metadata": {},
     "output_type": "execute_result"
    }
   ],
   "source": [
    "n2 = 130\n",
    "std_dev2 = 0.73\n",
    "sem2 = std_dev2 / np.sqrt(n2)  \n",
    "sem2"
   ]
  },
  {
   "cell_type": "code",
   "execution_count": 22,
   "id": "651e399e",
   "metadata": {},
   "outputs": [
    {
     "data": {
      "text/plain": [
       "(98.08260738705933, 98.41739261294067)"
      ]
     },
     "execution_count": 22,
     "metadata": {},
     "output_type": "execute_result"
    }
   ],
   "source": [
    "stats.t.interval(0.99, df= 129, loc = 98.25, scale=sem2) # populasyonun ort ve std sapmasini bilmiyoruz , o halde t dagilimi"
   ]
  },
  {
   "cell_type": "markdown",
   "id": "0eecfbfe",
   "metadata": {},
   "source": [
    "#### 3.The administrators for a hospital wished to estimate the average number of days required for inpatient treatment of patients between the ages of 25 and 34. A random sample of 500 hospital patients between these ages produced a mean and standard deviation equal to 5.4 and 3.1 days, respectively. Construct a 95% confidence interval for the mean length of stay for the population of patients from which the sample was drawn."
   ]
  },
  {
   "cell_type": "code",
   "execution_count": 38,
   "id": "ce4c6fe4",
   "metadata": {},
   "outputs": [],
   "source": [
    "n3 = 500\n",
    "xbar = 5.4\n",
    "std_dev3 = 3.1\n",
    "sem3 = std_dev3 / np.sqrt(n3)  \n",
    "moe = 1.96 * sem3"
   ]
  },
  {
   "cell_type": "code",
   "execution_count": 39,
   "id": "9d14377c",
   "metadata": {},
   "outputs": [
    {
     "data": {
      "text/plain": [
       "(5.127617354510309, 5.672382645489692)"
      ]
     },
     "execution_count": 39,
     "metadata": {},
     "output_type": "execute_result"
    }
   ],
   "source": [
    "stats.t.interval(0.95, df= n3-1, loc = 5.4, scale=sem3)"
   ]
  },
  {
   "cell_type": "markdown",
   "id": "c42985e0",
   "metadata": {},
   "source": [
    "#### Alternative Method"
   ]
  },
  {
   "cell_type": "code",
   "execution_count": 40,
   "id": "daebd666",
   "metadata": {},
   "outputs": [
    {
     "data": {
      "text/plain": [
       "(5.128273019374226, 5.671726980625775)"
      ]
     },
     "execution_count": 40,
     "metadata": {},
     "output_type": "execute_result"
    }
   ],
   "source": [
    "xbar-moe, xbar + moe # alternatif metod"
   ]
  },
  {
   "cell_type": "code",
   "execution_count": null,
   "id": "fe006009",
   "metadata": {},
   "outputs": [],
   "source": []
  }
 ],
 "metadata": {
  "kernelspec": {
   "display_name": "Python 3 (ipykernel)",
   "language": "python",
   "name": "python3"
  },
  "language_info": {
   "codemirror_mode": {
    "name": "ipython",
    "version": 3
   },
   "file_extension": ".py",
   "mimetype": "text/x-python",
   "name": "python",
   "nbconvert_exporter": "python",
   "pygments_lexer": "ipython3",
   "version": "3.9.7"
  }
 },
 "nbformat": 4,
 "nbformat_minor": 5
}
